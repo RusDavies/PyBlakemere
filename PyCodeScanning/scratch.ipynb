{
 "cells": [
  {
   "cell_type": "markdown",
   "metadata": {},
   "source": [
    "# Models"
   ]
  },
  {
   "cell_type": "code",
   "execution_count": 127,
   "metadata": {},
   "outputs": [],
   "source": [
    "import sqlalchemy as sa\n",
    "from sqlalchemy.ext.declarative import declarative_base\n",
    "\n",
    "from pathlib import Path\n",
    "from datetime import datetime\n",
    "from sqlalchemy.orm import sessionmaker"
   ]
  },
  {
   "cell_type": "code",
   "execution_count": 128,
   "metadata": {},
   "outputs": [],
   "source": [
    "Base = declarative_base()\n",
    "class Repo( Base ):\n",
    "    __tablename__ = 'repos'\n",
    "    id              = sa.Column(sa.Integer, primary_key=True, autoincrement=True)\n",
    "    repo_name       = sa.Column(sa.String,   nullable=False)\n",
    "    ssh_url         = sa.Column(sa.String,   nullable=False, unique=True) \n",
    "    onboarded_snyk  = sa.Column(sa.Boolean,  default=False)\n",
    "    onboarded_ghas  = sa.Column(sa.Boolean,  default=False)\n",
    "    active          = sa.Column(sa.Boolean,  default=True)\n",
    "    archived        = sa.Column(sa.Boolean,  default=False)\n",
    "    created         = sa.Column(sa.DateTime, nullable=False)\n",
    "    updated         = sa.Column(sa.DateTime, nullable=False)\n",
    "\n",
    "    snyk_issues = sa.relationship(\"snyk_findings\", back_populates=\"parent\")\n",
    "\n",
    "    def __repr__(self):\n",
    "        msg = \"\"\"<Repo(id={}, repo_name='{}', ssh_url='{}', onboarded_snyk={}, onboarded_ghas={}, created='{}', updated='{}')>\"\"\"\n",
    "        msg = msg.format(self.id, self.repo_name, self.ssh_url, self.onboarded_snyk, self.onboarded_ghas, self.created, self.updated)\n",
    "        return msg\n",
    "\n",
    "\n",
    "class SnykFinding( Base ):\n",
    "    __tablename__ = 'snyk_findings'\n",
    "\n",
    "    id               = sa.Column(sa.Integer, primary_key=True, autoincrement=True)\n",
    "    ssh_url          = sa.Column(sa.String, sa.ForeignKey(\"repos.ssh_url\"))\n",
    "    status_onboarded = sa.Column(sa.Boolean)\n",
    "    finding          = sa.Column(sa.String)\n",
    "    severity         = sa.Column(sa.Integer)\n",
    "    created          = sa.Column(sa.DateTime)\n",
    "    updated          = sa.Column(sa.DateTime)\n",
    "\n",
    "    parent = sa.relationship(\"repos\", back_populates=\"snyk_issues\")\n",
    "\n",
    "    def __repr__(self):\n",
    "        msg = \"\"\"<ResultIndexItem(id={}, ssh_url='{}', finding='{}',  severity='{}',  created='{}',  updated='{}')>\"\"\"\n",
    "        msg = msg.format(self.id, self.ssh_url, self.finding, self.created, self.updated)\n",
    "        return msg"
   ]
  },
  {
   "cell_type": "code",
   "execution_count": 124,
   "metadata": {},
   "outputs": [],
   "source": [
    "\n",
    "from collections import namedtuple\n",
    "SnykFindingSeverity = namedtuple(\"SnykFindingSeverity\", \"critical high medium low info\")\n",
    "SNYKSEVERITY = SnykFindingSeverity(1, 2, 3, 4, 5)\n",
    "\n",
    "class DbTester:\n",
    "    \n",
    "    def __init__(self, drop_all=False):\n",
    "        sql_file = Path('./test.sqlite3')\n",
    "        engine = sa.create_engine('sqlite:///' + str(sql_file.resolve()), echo=False)\n",
    "        \n",
    "        if (drop_all):\n",
    "            Base.metadata.drop_all(engine)\n",
    "        \n",
    "        Base.metadata.create_all(engine)\n",
    "        self.Session = sa.orm.sessionmaker(bind=engine)\n",
    "\n",
    "\n",
    "    def CreateRepo(self, repo_name, ssh_url ):\n",
    "        now = datetime.now()\n",
    "        item = Repo(repo_name=repo_name, ssh_url=ssh_url, created=now, updated=now) \n",
    "        with self.Session() as session: \n",
    "            session.add(item)\n",
    "            session.commit()\n",
    "        return\n",
    "\n",
    "    def ReadRepos(self, ssh_url=None):\n",
    "        results = None\n",
    "        with self.Session() as session: \n",
    "            results = session.query(Repo)\n",
    "            if (ssh_url):\n",
    "                results = results.filter(ssh_url == ssh_url)\n",
    "\n",
    "        return results\n",
    "\n",
    "    def UpdateRepo(self):\n",
    "        pass\n",
    "\n",
    "    def DeleteRepo(self, ssh_url=None):\n",
    "        with self.Session() as session: \n",
    "            results = session.query(Repo)\n",
    "            if (ssh_url):\n",
    "                results = results.filter(ssh_url == ssh_url)\n",
    "            session.delete(results)\n",
    "            session.commit()\n",
    "        return\n",
    "\n",
    "\n",
    "    def CreateSnykFinding(self, ssh_url, finding, severity ):\n",
    "        now = datetime.now()\n",
    "        item = SnykFinding(ssh_url=ssh_url, finding=finding, severity=severity, created=now, updated=now) \n",
    "        with self.Session() as session: \n",
    "            session.add(item)\n",
    "            session.commit()\n",
    "        return\n",
    "\n",
    "    # def ReadSnykFindings(self, ssh_url):\n",
    "    #     results = None\n",
    "    #     with self.Session() as session: \n",
    "    #         results = session.query(Repo).filter(ssh_url == ssh_url)\n",
    "    #     return results        \n",
    "\n",
    "    # def UpdateSnykFinding(self):\n",
    "    #     pass\n",
    "\n",
    "    # def DeleteSnykFinding(self):\n",
    "    #     pass\n"
   ]
  },
  {
   "cell_type": "code",
   "execution_count": 126,
   "metadata": {},
   "outputs": [
    {
     "name": "stdout",
     "output_type": "stream",
     "text": [
      "<Repo(id=None, repo_name='abcd', ssh_url='git@github.com:/abcd.git', onboarded_snyk=None, onboarded_ghas=None, created='2022-06-15 18:05:29.184026', updated='2022-06-15 18:05:29.184026')>\n"
     ]
    },
    {
     "data": {
      "text/plain": [
       "<sqlalchemy.orm.query.Query at 0x1d198b58a30>"
      ]
     },
     "execution_count": 126,
     "metadata": {},
     "output_type": "execute_result"
    }
   ],
   "source": [
    "db = DbTester(drop_all=True)\n",
    "db.CreateRepo(ssh_url='git@github.com:/abcd.git', repo_name='abcd')\n",
    "db.ReadRepos() \n"
   ]
  },
  {
   "cell_type": "markdown",
   "metadata": {},
   "source": [
    "# My Code"
   ]
  },
  {
   "cell_type": "code",
   "execution_count": 114,
   "metadata": {},
   "outputs": [
    {
     "name": "stdout",
     "output_type": "stream",
     "text": [
      "<ResultIndexItem(id=None, repo_name='abc', ssh_url='git@github.com:/abcd.git', onboarded_snyk='None', onboarded_ghas='None', created='2022-06-15 17:57:28.630849', updated='2022-06-15 17:57:28.630849')>\n"
     ]
    }
   ],
   "source": [
    "Base = declarative_base()\n",
    "\n",
    "class Repo( Base ):\n",
    "    __tablename__ = 'repos'\n",
    "\n",
    "    #id              = Column(Integer, primary_key=True)\n",
    "    id              = sa.Column(sa.Integer, primary_key=True, autoincrement=True)  #\n",
    "    repo_name       = sa.Column(sa.String,   nullable=False)\n",
    "    ssh_url         = sa.Column(sa.String,   nullable=False) #, ForeignKey(\"snyk_findings.ssh_url\"))\n",
    "    onboarded_snyk  = sa.Column(sa.Boolean,  nullable=False, default=False)\n",
    "    onboarded_ghas  = sa.Column(sa.Boolean,  nullable=False, default=False)\n",
    "    created         = sa.Column(sa.DateTime, nullable=False)\n",
    "    updated         = sa.Column(sa.DateTime, nullable=False)\n",
    "\n",
    "    # children = relationship(\"SnykFinding\", back_populates=\"parent\")\n",
    "\n",
    "    def __repr__(self):\n",
    "        msg = \"\"\"<ResultIndexItem(id={}, repo_name='{}', ssh_url='{}', onboarded_snyk='{}', onboarded_ghas='{}', created='{}', updated='{}')>\"\"\"\n",
    "        msg = msg.format(self.id, self.repo_name, self.ssh_url, self.onboarded_snyk, self.onboarded_ghas, self.created, self.updated)\n",
    "        return msg\n",
    "\n",
    "\n",
    "class test: \n",
    "    def __init__(self):\n",
    "        # self.engine = sa.create_engine('sqlite://', echo=False)\n",
    "        # Base.metadata.create_all(self.engine)\n",
    "        # self.Session = orm.sessionmaker(self.engine)\n",
    "\n",
    "        sql_file = Path('./test.sqlite3')\n",
    "        engine = sa.create_engine('sqlite:///' + str(sql_file.resolve()), echo=False)\n",
    "        Base.metadata.create_all(engine)\n",
    "        self.Session = sessionmaker(bind=engine)\n",
    "\n",
    "\n",
    "\n",
    "    def CreateRepo(self, repo_name=None, ssh_url=None): \n",
    "        now = datetime.now()\n",
    "        item = Repo(repo_name=repo_name, ssh_url=ssh_url, created=now, updated=now) \n",
    "        print( item )\n",
    "\n",
    "        with self.Session() as session: \n",
    "            session.add(item)\n",
    "            session.commit()\n",
    "\n",
    "        #---\n",
    "\n",
    "tst = test() \n",
    "tst.CreateRepo(repo_name='abc', ssh_url='git@github.com:/abcd.git')"
   ]
  },
  {
   "cell_type": "code",
   "execution_count": null,
   "metadata": {},
   "outputs": [],
   "source": []
  },
  {
   "cell_type": "code",
   "execution_count": 46,
   "metadata": {},
   "outputs": [
    {
     "name": "stdout",
     "output_type": "stream",
     "text": [
      "<ResultIndexItem(id=1, repo_name='abc', ssh_url='git@github.com:/abcd.git', onboarded_snyk='False', onboarded_ghas='False', created='2022-06-15 17:23:12.953072', updated='2022-06-15 17:23:12.953072')>\n"
     ]
    }
   ],
   "source": [
    "with Session() as session: \n",
    "    result = session.query(Repo).first()\n",
    "\n",
    "print(result)"
   ]
  },
  {
   "cell_type": "code",
   "execution_count": 47,
   "metadata": {},
   "outputs": [
    {
     "name": "stdout",
     "output_type": "stream",
     "text": [
      "None\n"
     ]
    }
   ],
   "source": [
    "with Session() as session: \n",
    "    result = session.query(Repo).first()\n",
    "\n",
    "print(result)\n",
    "with Session() as session: \n",
    "    session.delete(result)\n",
    "    session.commit()\n",
    "\n",
    "with Session() as session: \n",
    "    result = session.query(Repo).first()\n",
    "\n",
    "print(result)"
   ]
  },
  {
   "cell_type": "code",
   "execution_count": null,
   "metadata": {},
   "outputs": [],
   "source": []
  }
 ],
 "metadata": {
  "kernelspec": {
   "display_name": "Python 3.10.1 64-bit",
   "language": "python",
   "name": "python3"
  },
  "language_info": {
   "codemirror_mode": {
    "name": "ipython",
    "version": 3
   },
   "file_extension": ".py",
   "mimetype": "text/x-python",
   "name": "python",
   "nbconvert_exporter": "python",
   "pygments_lexer": "ipython3",
   "version": "3.10.1"
  },
  "orig_nbformat": 4,
  "vscode": {
   "interpreter": {
    "hash": "f40d0f275dca5ce5709623061cf679188aef4d3fb2e378b24cc3cf4a6f843339"
   }
  }
 },
 "nbformat": 4,
 "nbformat_minor": 2
}
